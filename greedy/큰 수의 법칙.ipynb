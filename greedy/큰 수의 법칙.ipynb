{
 "cells": [
  {
   "cell_type": "markdown",
   "metadata": {},
   "source": [
    "# 그리디\n",
    "## 큰 수의 법칙\n",
    "- 92p"
   ]
  },
  {
   "cell_type": "markdown",
   "metadata": {},
   "source": [
    "[아이디어]  \n",
    "가장 큰 수를 연속 가능 횟수 만큼 더하고, 그 다음에 두 번째 큰 수를 한번 더하는 방법을 반복하면 된다.  \n",
    "가장 큰 수 * 연속 가능 횟수가 더해질 수 있는 만큼은 숫자가 더해지는 횟수에서 연속 가능 횟수를 나눈 몫이며,  \n",
    "두 번째 큰 수가 더해지는 횟수는 숫자가 더해지는 횟수에서 연속 가능한 횟수를 나눈 나머지 이다.  \n",
    "때문에, 숫자가 더해지는 횟수를 M, 연속 가능 횟수를 K, 가장 큰 수를 first, 두 번째로 큰 수를 second라고 할 경우 식은 다음과 같다.  \n",
    "`first * k * (m // k) + second * (m % k)`"
   ]
  },
  {
   "cell_type": "code",
   "execution_count": 14,
   "metadata": {},
   "outputs": [
    {
     "name": "stdout",
     "output_type": "stream",
     "text": [
      "n, m, k: (5, 8, 3)\n",
      "array: [2, 4, 5, 4, 6]\n",
      "46\n"
     ]
    }
   ],
   "source": [
    "# 배열의 크기 N, 숫자가 더해지는 횟수 M, 연속 가능 횟수 K 입력\n",
    "n, m, k = map(int, input().split())\n",
    "print(f\"n, m, k: {n, m, k}\")\n",
    "\n",
    "# 배열 입력\n",
    "array = list(map(int, input().split()))\n",
    "print(f\"array: {array}\")\n",
    "\n",
    "# 가장 큰 수와 두 번째로 큰 수 찾기\n",
    "array.sort(reverse=True)\n",
    "first = array[0]\n",
    "second = array[1]\n",
    "\n",
    "# 가장 큰 수의 연속 가능 횟수만큼 더한 값을 최대로 더할 수 있는 횟수\n",
    "first_cnt = m // k\n",
    "\n",
    "# 두 번째 큰 수를 더해야 하는 횟수\n",
    "second_cnt = m % k\n",
    "\n",
    "result = (first * k * first_cnt) + (second * second_cnt)\n",
    "print(result)"
   ]
  },
  {
   "cell_type": "code",
   "execution_count": 17,
   "metadata": {},
   "outputs": [],
   "source": [
    "def solution(n, m, k, array):\n",
    "    # 가장 큰 수와 두 번째로 큰 수 찾기\n",
    "    array.sort(reverse=True)\n",
    "    first = array[0]\n",
    "    second = array[1]\n",
    "\n",
    "    # 가장 큰 수가 연속으로 더해질 수 있는 패턴의 반복 횟수\n",
    "    first_pattern_cnt = m // k\n",
    "\n",
    "    # 두 번째 큰 수를 더해야 하는 횟수는 남은 횟수\n",
    "    second_cnt = m % k\n",
    "\n",
    "    return (first * k * first_pattern_cnt) + (second * second_cnt)"
   ]
  },
  {
   "cell_type": "code",
   "execution_count": 18,
   "metadata": {},
   "outputs": [
    {
     "data": {
      "text/plain": [
       "46"
      ]
     },
     "execution_count": 18,
     "metadata": {},
     "output_type": "execute_result"
    }
   ],
   "source": [
    "solution(5, 8, 3, [2, 4, 5, 4, 6])"
   ]
  },
  {
   "cell_type": "markdown",
   "metadata": {},
   "source": [
    "시간 복잡도:\n",
    "\n",
    "배열 정렬: \n",
    "𝑂\n",
    "(\n",
    "𝑁\n",
    "log\n",
    "⁡\n",
    "𝑁\n",
    ")\n",
    "\n",
    "가장 큰 수와 두 번째 큰 수 찾기: \n",
    "𝑂\n",
    "(\n",
    "1\n",
    ")\n",
    "\n",
    "최종 결과 계산: \n",
    "𝑂\n",
    "(\n",
    "1\n",
    ")\n",
    "\n",
    "총 시간 복잡도: \n",
    "𝑂\n",
    "(\n",
    "𝑁\n",
    "log\n",
    ")"
   ]
  },
  {
   "cell_type": "code",
   "execution_count": null,
   "metadata": {},
   "outputs": [],
   "source": []
  }
 ],
 "metadata": {
  "kernelspec": {
   "display_name": "coding_test",
   "language": "python",
   "name": "python3"
  },
  "language_info": {
   "codemirror_mode": {
    "name": "ipython",
    "version": 3
   },
   "file_extension": ".py",
   "mimetype": "text/x-python",
   "name": "python",
   "nbconvert_exporter": "python",
   "pygments_lexer": "ipython3",
   "version": "3.12.0"
  }
 },
 "nbformat": 4,
 "nbformat_minor": 2
}
