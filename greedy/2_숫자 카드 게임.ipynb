{
 "cells": [
  {
   "cell_type": "markdown",
   "metadata": {},
   "source": [
    "# 그리디\n",
    "## 숫자 카드 게임\n",
    "- 96p\n"
   ]
  },
  {
   "cell_type": "code",
   "execution_count": 1,
   "metadata": {},
   "outputs": [
    {
     "data": {
      "text/plain": [
       "'\\n1. 숫자가 쓰인 카드들이 N * M 형태로 있다.\\n    - N = 행의 개수, M = 열의 개수\\n2. 먼저 뽑고자 하는 카드가 포함되어 있는 행을 선택\\n3. 그 다음 선택된 행에 포함된 카드들 중 가장 숫자가 낮은 카드를 뽑아야 함\\n4. 처음 카드를 골라낼 행 선택 시, 이후에 해당 행에 가장 숫자가 낮은 카드를 뽑을 것을 고려하여 최종적으로 가장 높은 숫자의 카드를 뽑을 수 있는 전략을 세워야 함\\n'"
      ]
     },
     "execution_count": 1,
     "metadata": {},
     "output_type": "execute_result"
    }
   ],
   "source": [
    "\"\"\"\n",
    "1. 숫자가 쓰인 카드들이 N * M 형태로 있다.\n",
    "    - N = 행의 개수, M = 열의 개수\n",
    "2. 먼저 뽑고자 하는 카드가 포함되어 있는 행을 선택\n",
    "3. 그 다음 선택된 행에 포함된 카드들 중 가장 숫자가 낮은 카드를 뽑아야 함\n",
    "4. 처음 카드를 골라낼 행 선택 시, 이후에 해당 행에 가장 숫자가 낮은 카드를 뽑을 것을 고려하여 최종적으로 가장 높은 숫자의 카드를 뽑을 수 있는 전략을 세워야 함\n",
    "\"\"\""
   ]
  },
  {
   "cell_type": "code",
   "execution_count": 10,
   "metadata": {},
   "outputs": [
    {
     "name": "stdout",
     "output_type": "stream",
     "text": [
      "3\n"
     ]
    }
   ],
   "source": [
    "# n은 행의 수, m은 열의 수\n",
    "n, m = map(int, input().split())\n",
    "\n",
    "# 각 행에서 가장 작은 수들 중에 큰 수를 출력\n",
    "min_data = []\n",
    "for col in range(n):\n",
    "    row = list(map(int, input().split()))\n",
    "    row_min = min(row)\n",
    "    min_data.append(row_min)\n",
    "\n",
    "print(max(min_data))"
   ]
  },
  {
   "cell_type": "code",
   "execution_count": null,
   "metadata": {},
   "outputs": [],
   "source": []
  }
 ],
 "metadata": {
  "kernelspec": {
   "display_name": "coding_test",
   "language": "python",
   "name": "python3"
  },
  "language_info": {
   "codemirror_mode": {
    "name": "ipython",
    "version": 3
   },
   "file_extension": ".py",
   "mimetype": "text/x-python",
   "name": "python",
   "nbconvert_exporter": "python",
   "pygments_lexer": "ipython3",
   "version": "3.12.0"
  }
 },
 "nbformat": 4,
 "nbformat_minor": 2
}
