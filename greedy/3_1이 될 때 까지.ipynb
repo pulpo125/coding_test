{
    "cells": [
     {
      "cell_type": "markdown",
      "metadata": {},
      "source": [
       "# 그리디\n",
       "## 1이 될 때까지\n",
       "- 99p"
      ]
     },
     {
      "cell_type": "code",
      "execution_count": 14,
      "metadata": {},
      "outputs": [
       {
        "name": "stdout",
        "output_type": "stream",
        "text": [
         "n, k: (17, 4)\n",
         "n: 16\n",
         "cnt: 0\n",
         "n: 4.0\n",
         "cnt: 1\n",
         "n: 1.0\n",
         "cnt: 2\n",
         "3\n"
        ]
       }
      ],
      "source": [
       "n, k = map(int, input().split())\n",
       "print(f\"n, k: {n, k}\")\n",
       "\n",
       "cnt = 0\n",
       "while n != 1:\n",
       "    if n % k == 0:\n",
       "        n = n / k\n",
       "    else:\n",
       "        n = n - 1\n",
       "    cnt += 1\n",
       "\n",
       "print(cnt)"
      ]
     },
     {
      "cell_type": "code",
      "execution_count": null,
      "metadata": {},
      "outputs": [],
      "source": [
       "def answer(n, k):\n",
       "    cnt = 0\n",
       "    while n != 1:\n",
       "        if n % k == 0:\n",
       "            n = n / k\n",
       "        else:\n",
       "            n = n - 1\n",
       "        cnt += 1\n",
       "    return cnt"
      ]
     },
     {
      "cell_type": "markdown",
      "metadata": {},
      "source": [
       "PASS  \n",
       "시간 복잡도 설명  \n",
       "나누기 연산(n / k)은 한 번에 숫자를 크게 줄이므로, 주어진 K가 적절히 작동한다면 O(log N)의 효율적인 풀이를 보입니다.  \n",
       "최악의 경우, K가 N에 적합하지 않을 때 N - 1 연산이 증가하므로 최대 O(N)까지 소요될 수 있습니다.  \n"
      ]
     },
     {
      "cell_type": "markdown",
      "metadata": {},
      "source": [
       "# N 이 K의 배수가 될 때까지 뺴기"
      ]
     }
    ],
    "metadata": {
     "kernelspec": {
      "display_name": "coding_test",
      "language": "python",
      "name": "python3"
     },
     "language_info": {
      "codemirror_mode": {
       "name": "ipython",
       "version": 3
      },
      "file_extension": ".py",
      "mimetype": "text/x-python",
      "name": "python",
      "nbconvert_exporter": "python",
      "pygments_lexer": "ipython3",
      "version": "3.12.0"
     }
    },
    "nbformat": 4,
    "nbformat_minor": 2
   }
   